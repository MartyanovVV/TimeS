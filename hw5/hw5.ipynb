{
 "cells": [
  {
   "cell_type": "code",
   "execution_count": 72,
   "metadata": {
    "ExecuteTime": {
     "end_time": "2023-10-21T19:59:19.334319300Z",
     "start_time": "2023-10-21T19:59:19.305269400Z"
    }
   },
   "outputs": [],
   "source": [
    "from matplotlib import pyplot as plt\n",
    "import pandas as pd\n",
    "import numpy as np\n"
   ]
  },
  {
   "cell_type": "code",
   "execution_count": 73,
   "metadata": {
    "ExecuteTime": {
     "end_time": "2023-10-21T20:02:56.100716400Z",
     "start_time": "2023-10-21T20:02:56.089664100Z"
    },
    "collapsed": false
   },
   "outputs": [],
   "source": [
    "import plotly.express as px"
   ]
  },
  {
   "cell_type": "code",
   "execution_count": 74,
   "metadata": {
    "ExecuteTime": {
     "end_time": "2023-10-21T19:55:19.611480100Z",
     "start_time": "2023-10-21T19:55:19.592140Z"
    },
    "collapsed": false
   },
   "outputs": [],
   "source": [
    "from sklearn.metrics import mean_absolute_percentage_error, mean_absolute_error, mean_squared_error, r2_score"
   ]
  },
  {
   "cell_type": "code",
   "execution_count": 75,
   "metadata": {
    "ExecuteTime": {
     "end_time": "2023-10-21T19:51:15.044192800Z",
     "start_time": "2023-10-21T19:51:14.916109900Z"
    }
   },
   "outputs": [],
   "source": [
    "# аналогичным образом загружаем данные о пассажирах\n",
    "df = pd.read_csv('data/Dutch weekly survey on leftright political orientation 19781996.csv')\n",
    "# неподходящий формат данных приводим к тому, с которым Pandas может работать\n",
    "# также устанавливаем индекс и сортируем\n",
    "df = df.set_index('time').sort_index()\n",
    "df = pd.DataFrame(df['Cda'])"
   ]
  },
  {
   "cell_type": "code",
   "execution_count": 76,
   "metadata": {
    "ExecuteTime": {
     "end_time": "2023-10-21T19:51:17.062861200Z",
     "start_time": "2023-10-21T19:51:17.046039900Z"
    }
   },
   "outputs": [
    {
     "data": {
      "text/html": [
       "<div>\n",
       "<style scoped>\n",
       "    .dataframe tbody tr th:only-of-type {\n",
       "        vertical-align: middle;\n",
       "    }\n",
       "\n",
       "    .dataframe tbody tr th {\n",
       "        vertical-align: top;\n",
       "    }\n",
       "\n",
       "    .dataframe thead th {\n",
       "        text-align: right;\n",
       "    }\n",
       "</style>\n",
       "<table border=\"1\" class=\"dataframe\">\n",
       "  <thead>\n",
       "    <tr style=\"text-align: right;\">\n",
       "      <th></th>\n",
       "      <th>Cda</th>\n",
       "    </tr>\n",
       "    <tr>\n",
       "      <th>time</th>\n",
       "      <th></th>\n",
       "    </tr>\n",
       "  </thead>\n",
       "  <tbody>\n",
       "    <tr>\n",
       "      <th>1</th>\n",
       "      <td>4.9643</td>\n",
       "    </tr>\n",
       "    <tr>\n",
       "      <th>2</th>\n",
       "      <td>4.9923</td>\n",
       "    </tr>\n",
       "    <tr>\n",
       "      <th>3</th>\n",
       "      <td>5.0844</td>\n",
       "    </tr>\n",
       "    <tr>\n",
       "      <th>4</th>\n",
       "      <td>5.2417</td>\n",
       "    </tr>\n",
       "    <tr>\n",
       "      <th>5</th>\n",
       "      <td>5.0712</td>\n",
       "    </tr>\n",
       "    <tr>\n",
       "      <th>...</th>\n",
       "      <td>...</td>\n",
       "    </tr>\n",
       "    <tr>\n",
       "      <th>984</th>\n",
       "      <td>4.4088</td>\n",
       "    </tr>\n",
       "    <tr>\n",
       "      <th>985</th>\n",
       "      <td>4.5083</td>\n",
       "    </tr>\n",
       "    <tr>\n",
       "      <th>986</th>\n",
       "      <td>4.3652</td>\n",
       "    </tr>\n",
       "    <tr>\n",
       "      <th>987</th>\n",
       "      <td>4.3071</td>\n",
       "    </tr>\n",
       "    <tr>\n",
       "      <th>988</th>\n",
       "      <td>4.4545</td>\n",
       "    </tr>\n",
       "  </tbody>\n",
       "</table>\n",
       "<p>988 rows × 1 columns</p>\n",
       "</div>"
      ],
      "text/plain": [
       "         Cda\n",
       "time        \n",
       "1     4.9643\n",
       "2     4.9923\n",
       "3     5.0844\n",
       "4     5.2417\n",
       "5     5.0712\n",
       "...      ...\n",
       "984   4.4088\n",
       "985   4.5083\n",
       "986   4.3652\n",
       "987   4.3071\n",
       "988   4.4545\n",
       "\n",
       "[988 rows x 1 columns]"
      ]
     },
     "execution_count": 76,
     "metadata": {},
     "output_type": "execute_result"
    }
   ],
   "source": [
    "df"
   ]
  },
  {
   "cell_type": "markdown",
   "metadata": {},
   "source": [
    "## Предсказание временного ряда с помощью деревьев"
   ]
  },
  {
   "cell_type": "markdown",
   "metadata": {},
   "source": [
    "Попробуем обычное дерево решений и случайный лес, а потом сравним результаты"
   ]
  },
  {
   "cell_type": "code",
   "execution_count": 77,
   "metadata": {
    "ExecuteTime": {
     "end_time": "2023-10-21T19:51:22.828367600Z",
     "start_time": "2023-10-21T19:51:20.598765600Z"
    }
   },
   "outputs": [],
   "source": [
    "from sklearn.tree import DecisionTreeRegressor\n",
    "from sklearn.ensemble import RandomForestRegressor\n",
    "from sklearn.metrics import mean_absolute_error\n",
    "from numpy import asarray"
   ]
  },
  {
   "cell_type": "code",
   "execution_count": 78,
   "metadata": {
    "ExecuteTime": {
     "end_time": "2023-10-21T19:51:24.900200400Z",
     "start_time": "2023-10-21T19:51:24.885427200Z"
    }
   },
   "outputs": [],
   "source": [
    "n_vars = 1 if type(df) is list else df.shape[1]\n",
    "cols = list()\n",
    "for i in range(1, 0, -1):\n",
    "    cols.append(df.shift(i))\n",
    "for i in range(0, 1):\n",
    "    cols.append(df.shift(-i))\n",
    "# put it all together\n",
    "agg = pd.concat(cols, axis=1)\n",
    "agg.dropna(inplace=True)\n",
    "list_for_forecast = agg.values"
   ]
  },
  {
   "cell_type": "code",
   "execution_count": 79,
   "metadata": {
    "ExecuteTime": {
     "end_time": "2023-10-21T19:51:27.667184300Z",
     "start_time": "2023-10-21T19:51:27.655035700Z"
    }
   },
   "outputs": [
    {
     "data": {
      "text/plain": [
       "987"
      ]
     },
     "execution_count": 79,
     "metadata": {},
     "output_type": "execute_result"
    }
   ],
   "source": [
    "len(list_for_forecast)"
   ]
  },
  {
   "cell_type": "code",
   "execution_count": 80,
   "metadata": {
    "ExecuteTime": {
     "end_time": "2023-10-21T19:51:30.406169700Z",
     "start_time": "2023-10-21T19:51:30.396478700Z"
    }
   },
   "outputs": [],
   "source": [
    "def decision_tree_forecast(train, testX):\n",
    "    train = asarray(train)\n",
    "    trainX, trainy = train[:, :-1], train[:, -1]\n",
    "    model = DecisionTreeRegressor(random_state=0)\n",
    "    model.fit(trainX, trainy)\n",
    "    yhat = model.predict([testX])\n",
    "    return yhat[0]"
   ]
  },
  {
   "cell_type": "code",
   "execution_count": 81,
   "metadata": {
    "ExecuteTime": {
     "end_time": "2023-10-21T19:51:33.086477300Z",
     "start_time": "2023-10-21T19:51:33.077640700Z"
    }
   },
   "outputs": [],
   "source": [
    "def random_forest_forecast(train, testX):\n",
    "    train = asarray(train)\n",
    "    trainX, trainy = train[:, :-1], train[:, -1]\n",
    "    model = RandomForestRegressor(n_estimators=1000)\n",
    "    model.fit(trainX, trainy)\n",
    "    yhat = model.predict([testX])\n",
    "    return yhat[0]"
   ]
  },
  {
   "cell_type": "code",
   "execution_count": 82,
   "metadata": {
    "ExecuteTime": {
     "end_time": "2023-10-21T19:52:15.414388300Z",
     "start_time": "2023-10-21T19:51:36.565524900Z"
    }
   },
   "outputs": [
    {
     "name": "stdout",
     "output_type": "stream",
     "text": [
      "Random Forest error:  0.0992435823414455\n"
     ]
    }
   ],
   "source": [
    "predictions = list()\n",
    "size = int(len(list_for_forecast) * 0.66)\n",
    "train, test = list_for_forecast[0:size], list_for_forecast[size:len(list_for_forecast)]\n",
    "history = [x for x in train]\n",
    "\n",
    "for i in range(len(test)):\n",
    "    testX, testy = test[i, :-1], test[i, -1]\n",
    "    yhat = random_forest_forecast(history, testX)\n",
    "    predictions.append(yhat)\n",
    "    history.append(test[i])\n",
    "\n",
    "error = mean_absolute_error(test[:, -1], predictions)\n",
    "print(\"Random Forest error: \", error)"
   ]
  },
  {
   "cell_type": "code",
   "execution_count": 83,
   "metadata": {
    "ExecuteTime": {
     "end_time": "2023-10-21T19:56:02.274349600Z",
     "start_time": "2023-10-21T19:56:02.257930700Z"
    },
    "collapsed": false
   },
   "outputs": [
    {
     "name": "stdout",
     "output_type": "stream",
     "text": [
      "Random Forest metrics: \n",
      "RMSE: 0.1252818196022164\n",
      "MAPE: 0.022134196413891045\n",
      "MAE: 0.0992435823414455\n",
      "R2:  0.13114092074236905\n"
     ]
    }
   ],
   "source": [
    "print(\"Random Forest metrics: \")\n",
    "print(\"RMSE:\", np.sqrt(mean_squared_error(test[:, -1], predictions)))\n",
    "print(\"MAPE:\", mean_absolute_percentage_error(test[:, -1], predictions))\n",
    "print(\"MAE:\", mean_absolute_error(test[:, -1], predictions))\n",
    "print(\"R2: \", r2_score(test[:, -1], predictions))"
   ]
  },
  {
   "cell_type": "code",
   "execution_count": 84,
   "metadata": {
    "ExecuteTime": {
     "end_time": "2023-10-21T19:56:25.385288900Z",
     "start_time": "2023-10-21T19:56:25.235028200Z"
    }
   },
   "outputs": [
    {
     "data": {
      "image/png": "[encoded data removed]",
      "text/plain": [
       "<Figure size 2000x900 with 1 Axes>"
      ]
     },
     "metadata": {},
     "output_type": "display_data"
    }
   ],
   "source": [
    "fig = plt.figure(figsize=(20, 9))\n",
    "plt.plot(test[:, -1], label='Original data')\n",
    "plt.plot(predictions, label='Random Forest')\n",
    "plt.legend(fontsize=\"20\")\n",
    "plt.title('Cda by Time')\n",
    "plt.ylabel('Total Cda', fontsize=\"20\")\n",
    "plt.xlabel('Time', fontsize=\"20\")\n",
    "plt.show()"
   ]
  },
  {
   "cell_type": "code",
   "execution_count": 85,
   "metadata": {
    "ExecuteTime": {
     "end_time": "2023-10-21T19:56:44.610050400Z",
     "start_time": "2023-10-21T19:56:44.561980900Z"
    }
   },
   "outputs": [],
   "source": [
    "predictions = list()\n",
    "size = int(len(list_for_forecast) * 0.66)\n",
    "train, test = list_for_forecast[0:size], list_for_forecast[size:len(list_for_forecast)]\n",
    "history = [x for x in train]\n",
    "\n",
    "for i in range(len(test)):\n",
    "    testX, testy = test[i, :-1], test[i, -1]\n",
    "    yhat = decision_tree_forecast(history, testX)\n",
    "    predictions.append(yhat)\n",
    "    history.append(test[i])\n"
   ]
  },
  {
   "cell_type": "code",
   "execution_count": 86,
   "metadata": {
    "ExecuteTime": {
     "end_time": "2023-10-21T19:56:47.783502600Z",
     "start_time": "2023-10-21T19:56:47.758166400Z"
    },
    "collapsed": false
   },
   "outputs": [
    {
     "name": "stdout",
     "output_type": "stream",
     "text": [
      "Decision Forest metrics: \n",
      "RMSE: 0.14035826399253687\n",
      "MAPE: 0.024500274007485383\n",
      "MAE: 0.11005639880952381\n",
      "R2:  -0.09055912213432249\n"
     ]
    }
   ],
   "source": [
    "print(\"Decision Forest metrics: \")\n",
    "print(\"RMSE:\", np.sqrt(mean_squared_error(test[:, -1], predictions)))\n",
    "print(\"MAPE:\", mean_absolute_percentage_error(test[:, -1], predictions))\n",
    "print(\"MAE:\", mean_absolute_error(test[:, -1], predictions))\n",
    "print(\"R2: \", r2_score(test[:, -1], predictions))"
   ]
  },
  {
   "cell_type": "code",
   "execution_count": 87,
   "metadata": {
    "ExecuteTime": {
     "end_time": "2023-10-21T19:57:11.581496300Z",
     "start_time": "2023-10-21T19:57:11.438729900Z"
    }
   },
   "outputs": [
    {
     "data": {
      "image/png": "[encoded data removed]",
      "text/plain": [
       "<Figure size 2000x900 with 1 Axes>"
      ]
     },
     "metadata": {},
     "output_type": "display_data"
    }
   ],
   "source": [
    "fig = plt.figure(figsize=(20, 9))\n",
    "plt.plot(test[:, -1], label='Original data')\n",
    "plt.plot(predictions, label='Decision Tree')\n",
    "plt.legend(fontsize=\"20\")\n",
    "plt.title('Cda by Time')\n",
    "plt.ylabel('Total Cda', fontsize=\"20\")\n",
    "plt.xlabel('Time', fontsize=\"20\")\n",
    "plt.show()"
   ]
  },
  {
   "cell_type": "markdown",
   "metadata": {},
   "source": [
    "## Детекция аномалий с помощью isolated forest"
   ]
  },
  {
   "cell_type": "code",
   "execution_count": 88,
   "metadata": {
    "ExecuteTime": {
     "end_time": "2023-10-21T19:57:17.129852Z",
     "start_time": "2023-10-21T19:57:17.117342200Z"
    }
   },
   "outputs": [],
   "source": [
    "from sklearn.ensemble import IsolationForest"
   ]
  },
  {
   "cell_type": "code",
   "execution_count": 89,
   "metadata": {
    "ExecuteTime": {
     "end_time": "2023-10-21T19:57:18.584479Z",
     "start_time": "2023-10-21T19:57:18.563096200Z"
    }
   },
   "outputs": [
    {
     "data": {
      "text/html": [
       "<div>\n",
       "<style scoped>\n",
       "    .dataframe tbody tr th:only-of-type {\n",
       "        vertical-align: middle;\n",
       "    }\n",
       "\n",
       "    .dataframe tbody tr th {\n",
       "        vertical-align: top;\n",
       "    }\n",
       "\n",
       "    .dataframe thead th {\n",
       "        text-align: right;\n",
       "    }\n",
       "</style>\n",
       "<table border=\"1\" class=\"dataframe\">\n",
       "  <thead>\n",
       "    <tr style=\"text-align: right;\">\n",
       "      <th></th>\n",
       "      <th>Cda</th>\n",
       "    </tr>\n",
       "    <tr>\n",
       "      <th>time</th>\n",
       "      <th></th>\n",
       "    </tr>\n",
       "  </thead>\n",
       "  <tbody>\n",
       "    <tr>\n",
       "      <th>1</th>\n",
       "      <td>4.9643</td>\n",
       "    </tr>\n",
       "    <tr>\n",
       "      <th>2</th>\n",
       "      <td>4.9923</td>\n",
       "    </tr>\n",
       "    <tr>\n",
       "      <th>3</th>\n",
       "      <td>5.0844</td>\n",
       "    </tr>\n",
       "    <tr>\n",
       "      <th>4</th>\n",
       "      <td>5.2417</td>\n",
       "    </tr>\n",
       "    <tr>\n",
       "      <th>5</th>\n",
       "      <td>5.0712</td>\n",
       "    </tr>\n",
       "    <tr>\n",
       "      <th>...</th>\n",
       "      <td>...</td>\n",
       "    </tr>\n",
       "    <tr>\n",
       "      <th>984</th>\n",
       "      <td>4.4088</td>\n",
       "    </tr>\n",
       "    <tr>\n",
       "      <th>985</th>\n",
       "      <td>4.5083</td>\n",
       "    </tr>\n",
       "    <tr>\n",
       "      <th>986</th>\n",
       "      <td>4.3652</td>\n",
       "    </tr>\n",
       "    <tr>\n",
       "      <th>987</th>\n",
       "      <td>4.3071</td>\n",
       "    </tr>\n",
       "    <tr>\n",
       "      <th>988</th>\n",
       "      <td>4.4545</td>\n",
       "    </tr>\n",
       "  </tbody>\n",
       "</table>\n",
       "<p>988 rows × 1 columns</p>\n",
       "</div>"
      ],
      "text/plain": [
       "         Cda\n",
       "time        \n",
       "1     4.9643\n",
       "2     4.9923\n",
       "3     5.0844\n",
       "4     5.2417\n",
       "5     5.0712\n",
       "...      ...\n",
       "984   4.4088\n",
       "985   4.5083\n",
       "986   4.3652\n",
       "987   4.3071\n",
       "988   4.4545\n",
       "\n",
       "[988 rows x 1 columns]"
      ]
     },
     "execution_count": 89,
     "metadata": {},
     "output_type": "execute_result"
    }
   ],
   "source": [
    "# аналогичным образом загружаем данные о пассажирах\n",
    "df = pd.read_csv('data/Dutch weekly survey on leftright political orientation 19781996.csv')\n",
    "# неподходящий формат данных приводим к тому, с которым Pandas может работать\n",
    "# также устанавливаем индекс и сортируем\n",
    "df = df.set_index('time').sort_index()\n",
    "df = pd.DataFrame(df['Cda'])\n",
    "df"
   ]
  },
  {
   "cell_type": "code",
   "execution_count": 90,
   "metadata": {
    "ExecuteTime": {
     "end_time": "2023-10-21T19:57:21.615926900Z",
     "start_time": "2023-10-21T19:57:21.481829500Z"
    }
   },
   "outputs": [
    {
     "data": {
      "text/html": [
       "<style>#sk-container-id-3 {color: black;}#sk-container-id-3 pre{padding: 0;}#sk-container-id-3 div.sk-toggleable {background-color: white;}#sk-container-id-3 label.sk-toggleable__label {cursor: pointer;display: block;width: 100%;margin-bottom: 0;padding: 0.3em;box-sizing: border-box;text-align: center;}#sk-container-id-3 label.sk-toggleable__label-arrow:before {content: \"▸\";float: left;margin-right: 0.25em;color: #696969;}#sk-container-id-3 label.sk-toggleable__label-arrow:hover:before {color: black;}#sk-container-id-3 div.sk-estimator:hover label.sk-toggleable__label-arrow:before {color: black;}#sk-container-id-3 div.sk-toggleable__content {max-height: 0;max-width: 0;overflow: hidden;text-align: left;background-color: #f0f8ff;}#sk-container-id-3 div.sk-toggleable__content pre {margin: 0.2em;color: black;border-radius: 0.25em;background-color: #f0f8ff;}#sk-container-id-3 input.sk-toggleable__control:checked~div.sk-toggleable__content {max-height: 200px;max-width: 100%;overflow: auto;}#sk-container-id-3 input.sk-toggleable__control:checked~label.sk-toggleable__label-arrow:before {content: \"▾\";}#sk-container-id-3 div.sk-estimator input.sk-toggleable__control:checked~label.sk-toggleable__label {background-color: #d4ebff;}#sk-container-id-3 div.sk-label input.sk-toggleable__control:checked~label.sk-toggleable__label {background-color: #d4ebff;}#sk-container-id-3 input.sk-hidden--visually {border: 0;clip: rect(1px 1px 1px 1px);clip: rect(1px, 1px, 1px, 1px);height: 1px;margin: -1px;overflow: hidden;padding: 0;position: absolute;width: 1px;}#sk-container-id-3 div.sk-estimator {font-family: monospace;background-color: #f0f8ff;border: 1px dotted black;border-radius: 0.25em;box-sizing: border-box;margin-bottom: 0.5em;}#sk-container-id-3 div.sk-estimator:hover {background-color: #d4ebff;}#sk-container-id-3 div.sk-parallel-item::after {content: \"\";width: 100%;border-bottom: 1px solid gray;flex-grow: 1;}#sk-container-id-3 div.sk-label:hover label.sk-toggleable__label {background-color: #d4ebff;}#sk-container-id-3 div.sk-serial::before {content: \"\";position: absolute;border-left: 1px solid gray;box-sizing: border-box;top: 0;bottom: 0;left: 50%;z-index: 0;}#sk-container-id-3 div.sk-serial {display: flex;flex-direction: column;align-items: center;background-color: white;padding-right: 0.2em;padding-left: 0.2em;position: relative;}#sk-container-id-3 div.sk-item {position: relative;z-index: 1;}#sk-container-id-3 div.sk-parallel {display: flex;align-items: stretch;justify-content: center;background-color: white;position: relative;}#sk-container-id-3 div.sk-item::before, #sk-container-id-3 div.sk-parallel-item::before {content: \"\";position: absolute;border-left: 1px solid gray;box-sizing: border-box;top: 0;bottom: 0;left: 50%;z-index: -1;}#sk-container-id-3 div.sk-parallel-item {display: flex;flex-direction: column;z-index: 1;position: relative;background-color: white;}#sk-container-id-3 div.sk-parallel-item:first-child::after {align-self: flex-end;width: 50%;}#sk-container-id-3 div.sk-parallel-item:last-child::after {align-self: flex-start;width: 50%;}#sk-container-id-3 div.sk-parallel-item:only-child::after {width: 0;}#sk-container-id-3 div.sk-dashed-wrapped {border: 1px dashed gray;margin: 0 0.4em 0.5em 0.4em;box-sizing: border-box;padding-bottom: 0.4em;background-color: white;}#sk-container-id-3 div.sk-label label {font-family: monospace;font-weight: bold;display: inline-block;line-height: 1.2em;}#sk-container-id-3 div.sk-label-container {text-align: center;}#sk-container-id-3 div.sk-container {/* jupyter's `normalize.less` sets `[hidden] { display: none; }` but bootstrap.min.css set `[hidden] { display: none !important; }` so we also need the `!important` here to be able to override the default hidden behavior on the sphinx rendered scikit-learn.org. See: https://github.com/scikit-learn/scikit-learn/issues/21755 */display: inline-block !important;position: relative;}#sk-container-id-3 div.sk-text-repr-fallback {display: none;}</style><div id=\"sk-container-id-3\" class=\"sk-top-container\"><div class=\"sk-text-repr-fallback\"><pre>IsolationForest(contamination=0.004)</pre><b>In a Jupyter environment, please rerun this cell to show the HTML representation or trust the notebook. <br />On GitHub, the HTML representation is unable to render, please try loading this page with nbviewer.org.</b></div><div class=\"sk-container\" hidden><div class=\"sk-item\"><div class=\"sk-estimator sk-toggleable\"><input class=\"sk-toggleable__control sk-hidden--visually\" id=\"sk-estimator-id-3\" type=\"checkbox\" checked><label for=\"sk-estimator-id-3\" class=\"sk-toggleable__label sk-toggleable__label-arrow\">IsolationForest</label><div class=\"sk-toggleable__content\"><pre>IsolationForest(contamination=0.004)</pre></div></div></div></div></div>"
      ],
      "text/plain": [
       "IsolationForest(contamination=0.004)"
      ]
     },
     "execution_count": 90,
     "metadata": {},
     "output_type": "execute_result"
    }
   ],
   "source": [
    "model = IsolationForest(contamination=0.004)\n",
    "model.fit(df[['Cda']])"
   ]
  },
  {
   "cell_type": "code",
   "execution_count": 91,
   "metadata": {
    "ExecuteTime": {
     "end_time": "2023-10-21T19:57:26.682004500Z",
     "start_time": "2023-10-21T19:57:26.643337Z"
    }
   },
   "outputs": [],
   "source": [
    "df['outliers'] = pd.Series(model.predict(df[['Cda']])).apply(lambda x: 'yes' if (x == -1) else 'no' )"
   ]
  },
  {
   "cell_type": "code",
   "execution_count": 92,
   "metadata": {
    "ExecuteTime": {
     "end_time": "2023-10-21T19:57:28.740581200Z",
     "start_time": "2023-10-21T19:57:28.709843200Z"
    }
   },
   "outputs": [
    {
     "data": {
      "text/html": [
       "<div>\n",
       "<style scoped>\n",
       "    .dataframe tbody tr th:only-of-type {\n",
       "        vertical-align: middle;\n",
       "    }\n",
       "\n",
       "    .dataframe tbody tr th {\n",
       "        vertical-align: top;\n",
       "    }\n",
       "\n",
       "    .dataframe thead th {\n",
       "        text-align: right;\n",
       "    }\n",
       "</style>\n",
       "<table border=\"1\" class=\"dataframe\">\n",
       "  <thead>\n",
       "    <tr style=\"text-align: right;\">\n",
       "      <th></th>\n",
       "      <th>Cda</th>\n",
       "      <th>outliers</th>\n",
       "    </tr>\n",
       "    <tr>\n",
       "      <th>time</th>\n",
       "      <th></th>\n",
       "      <th></th>\n",
       "    </tr>\n",
       "  </thead>\n",
       "  <tbody>\n",
       "    <tr>\n",
       "      <th>10</th>\n",
       "      <td>5.0772</td>\n",
       "      <td>yes</td>\n",
       "    </tr>\n",
       "    <tr>\n",
       "      <th>67</th>\n",
       "      <td>5.1158</td>\n",
       "      <td>yes</td>\n",
       "    </tr>\n",
       "    <tr>\n",
       "      <th>100</th>\n",
       "      <td>5.1724</td>\n",
       "      <td>yes</td>\n",
       "    </tr>\n",
       "    <tr>\n",
       "      <th>951</th>\n",
       "      <td>4.3307</td>\n",
       "      <td>yes</td>\n",
       "    </tr>\n",
       "  </tbody>\n",
       "</table>\n",
       "</div>"
      ],
      "text/plain": [
       "         Cda outliers\n",
       "time                 \n",
       "10    5.0772      yes\n",
       "67    5.1158      yes\n",
       "100   5.1724      yes\n",
       "951   4.3307      yes"
      ]
     },
     "execution_count": 92,
     "metadata": {},
     "output_type": "execute_result"
    }
   ],
   "source": [
    "df.query('outliers==\"yes\"')"
   ]
  },
  {
   "cell_type": "code",
   "execution_count": 93,
   "metadata": {
    "ExecuteTime": {
     "end_time": "2023-10-21T19:57:32.272245900Z",
     "start_time": "2023-10-21T19:57:32.259197900Z"
    }
   },
   "outputs": [],
   "source": [
    "import plotly.express as px\n",
    "import nbformat"
   ]
  },
  {
   "cell_type": "code",
   "execution_count": 94,
   "metadata": {},
   "outputs": [
    {
     "data": {
      "application/vnd.plotly.v1+json": {
       "config": {
        "plotlyServerURL": "https://plot.ly"
       },
       "data": [
        {
         "hovertemplate": "outliers=no<br>time=%{x}<br>Cda=%{y}<extra></extra>",
         "legendgroup": "no",
         "marker": {
          "color": "#636efa",
          "symbol": "circle"
         },
         "mode": "markers",
         "name": "no",
         "orientation": "v",
         "showlegend": true,
         "type": "scatter",
         "x": [
          1,
          2,
          3,
          4,
          5,
          6,
          7,
          8,
          9,
          11,
          12,
          13,
          14,
          15,
          16,
          17,
          18,
          19,
          20,
          21,
          22,
          23,
          24,
          25,
          26,
          27,
          28,
          29,
          30,
          31,
          32,
          33,
          34,
          35,
          36,
          37,
          38,
          39,
          40,
          41,
          42,
          43,
          44,
          45,
          46,
          47,
          48,
          49,
          50,
          51,
          52,
          53,
          54,
          55,
          56,
          57,
          58,
          59,
          60,
          61,
          62,
          63,
          64,
          65,
          66,
          68,
          69,
          70,
          71,
          72,
          73,
          74,
          75,
          76,
          77,
          78,
          79,
          80,
          81,
          82,
          83,
          84,
          85,
          86,
          87,
          88,
          89,
          90,
          91,
          92,
          93,
          94,
          95,
          96,
          97,
          98,
          99,
          101,
          102,
          103,
          104,
          105,
          106,
          107,
          108,
          109,
          110,
          111,
          112,
          113,
          114,
          115,
          116,
          117,
          118,
          119,
          120,
          121,
          122,
          123,
          124,
          125,
          126,
          127,
          128,
          129,
          130,
          131,
          132,
          133,
          134,
          135,
          136,
          137,
          138,
          139,
          140,
          141,
          142,
          143,
          144,
          145,
          146,
          147,
          148,
          149,
          150,
          151,
          152,
          153,
          154,
          155,
          156,
          157,
          158,
          159,
          160,
          161,
          162,
          163,
          164,
          165,
          166,
          167,
          168,
          169,
          170,
          171,
          172,
          173,
          174,
          175,
          176,
          177,
          178,
          179,
          180,
          181,
          182,
          183,
          184,
          185,
          186,
          187,
          188,
          189,
          190,
          191,
          192,
          193,
          194,
          195,
          196,
          197,
          198,
          199,
          200,
          201,
          202,
          203,
          204,
          205,
          206,
          207,
          208,
          209,
          210,
          211,
          212,
          213,
          214,
          215,
          216,
          217,
          218,
          219,
          220,
          221,
          222,
          223,
          224,
          225,
          226,
          227,
          228,
          229,
          230,
          231,
          232,
          233,
          234,
          235,
          236,
          237,
          238,
          239,
          240,
          241,
          242,
          243,
          244,
          245,
          246,
          247,
          248,
          249,
          250,
          251,
          252,
          253,
          254,
          255,
          256,
          257,
          258,
          259,
          260,
          261,
          262,
          263,
          264,
          265,
          266,
          267,
          268,
          269,
          270,
          271,
          272,
          273,
          274,
          275,
          276,
          277,
          278,
          279,
          280,
          281,
          282,
          283,
          284,
          285,
          286,
          287,
          288,
          289,
          290,
          291,
          292,
          293,
          294,
          295,
          296,
          297,
          298,
          299,
          300,
          301,
          302,
          303,
          304,
          305,
          306,
          307,
          308,
          309,
          310,
          311,
          312,
          313,
          314,
          315,
          316,
          317,
          318,
          319,
          320,
          321,
          322,
          323,
          324,
          325,
          326,
          327,
          328,
          329,
          330,
          331,
          332,
          333,
          334,
          335,
          336,
          337,
          338,
          339,
          340,
          341,
          342,
          343,
          344,
          345,
          346,
          347,
          348,
          349,
          350,
          351,
          352,
          353,
          354,
          355,
          356,
          357,
          358,
          359,
          360,
          361,
          362,
          363,
          364,
          365,
          366,
          367,
          368,
          369,
          370,
          371,
          372,
          373,
          374,
          375,
          376,
          377,
          378,
          379,
          380,
          381,
          382,
          383,
          384,
          385,
          386,
          387,
          388,
          389,
          390,
          391,
          392,
          393,
          394,
          395,
          396,
          397,
          398,
          399,
          400,
          401,
          402,
          403,
          404,
          405,
          406,
          407,
          408,
          409,
          410,
          411,
          412,
          413,
          414,
          415,
          416,
          417,
          418,
          419,
          420,
          421,
          422,
          423,
          424,
          425,
          426,
          427,
          428,
          429,
          430,
          431,
          432,
          433,
          434,
          435,
          436,
          437,
          438,
          439,
          440,
          441,
          442,
          443,
          444,
          445,
          446,
          447,
          448,
          449,
          450,
          451,
          452,
          453,
          454,
          455,
          456,
          457,
          458,
          459,
          460,
          461,
          462,
          463,
          464,
          465,
          466,
          467,
          468,
          469,
          470,
          471,
          472,
          473,
          474,
          475,
          476,
          477,
          478,
          479,
          480,
          481,
          482,
          483,
          484,
          485,
          486,
          487,
          488,
          489,
          490,
          491,
          492,
          493,
          494,
          495,
          496,
          497,
          498,
          499,
          500,
          501,
          502,
          503,
          504,
          505,
          506,
          507,
          508,
          509,
          510,
          511,
          512,
          513,
          514,
          515,
          516,
          517,
          518,
          519,
          520,
          521,
          522,
          523,
          524,
          525,
          526,
          527,
          528,
          529,
          530,
          531,
          532,
          533,
          534,
          535,
          536,
          537,
          538,
          539,
          540,
          541,
          542,
          543,
          544,
          545,
          546,
          547,
          548,
          549,
          550,
          551,
          552,
          553,
          554,
          555,
          556,
          557,
          558,
          559,
          560,
          561,
          562,
          563,
          564,
          565,
          566,
          567,
          568,
          569,
          570,
          571,
          572,
          573,
          574,
          575,
          576,
          577,
          578,
          579,
          580,
          581,
          582,
          583,
          584,
          585,
          586,
          587,
          588,
          589,
          590,
          591,
          592,
          593,
          594,
          595,
          596,
          597,
          598,
          599,
          600,
          601,
          602,
          603,
          604,
          605,
          606,
          607,
          608,
          609,
          610,
          611,
          612,
          613,
          614,
          615,
          616,
          617,
          618,
          619,
          620,
          621,
          622,
          623,
          624,
          625,
          626,
          627,
          628,
          629,
          630,
          631,
          632,
          633,
          634,
          635,
          636,
          637,
          638,
          639,
          640,
          641,
          642,
          643,
          644,
          645,
          646,
          647,
          648,
          649,
          650,
          651,
          652,
          653,
          654,
          655,
          656,
          657,
          658,
          659,
          660,
          661,
          662,
          663,
          664,
          665,
          666,
          667,
          668,
          669,
          670,
          671,
          672,
          673,
          674,
          675,
          676,
          677,
          678,
          679,
          680,
          681,
          682,
          683,
          684,
          685,
          686,
          687,
          688,
          689,
          690,
          691,
          692,
          693,
          694,
          695,
          696,
          697,
          698,
          699,
          700,
          701,
          702,
          703,
          704,
          705,
          706,
          707,
          708,
          709,
          710,
          711,
          712,
          713,
          714,
          715,
          716,
          717,
          718,
          719,
          720,
          721,
          722,
          723,
          724,
          725,
          726,
          727,
          728,
          729,
          730,
          731,
          732,
          733,
          734,
          735,
          736,
          737,
          738,
          739,
          740,
          741,
          742,
          743,
          744,
          745,
          746,
          747,
          748,
          749,
          750,
          751,
          752,
          753,
          754,
          755,
          756,
          757,
          758,
          759,
          760,
          761,
          762,
          763,
          764,
          765,
          766,
          767,
          768,
          769,
          770,
          771,
          772,
          773,
          774,
          775,
          776,
          777,
          778,
          779,
          780,
          781,
          782,
          783,
          784,
          785,
          786,
          787,
          788,
          789,
          790,
          791,
          792,
          793,
          794,
          795,
          796,
          797,
          798,
          799,
          800,
          801,
          802,
          803,
          804,
          805,
          806,
          807,
          808,
          809,
          810,
          811,
          812,
          813,
          814,
          815,
          816,
          817,
          818,
          819,
          820,
          821,
          822,
          823,
          824,
          825,
          826,
          827,
          828,
          829,
          830,
          831,
          832,
          833,
          834,
          835,
          836,
          837,
          838,
          839,
          840,
          841,
          842,
          843,
          844,
          845,
          846,
          847,
          848,
          849,
          850,
          851,
          852,
          853,
          854,
          855,
          856,
          857,
          858,
          859,
          860,
          861,
          862,
          863,
          864,
          865,
          866,
          867,
          868,
          869,
          870,
          871,
          872,
          873,
          874,
          875,
          876,
          877,
          878,
          879,
          880,
          881,
          882,
          883,
          884,
          885,
          886,
          887,
          888,
          889,
          890,
          891,
          892,
          893,
          894,
          895,
          896,
          897,
          898,
          899,
          900,
          901,
          902,
          903,
          904,
          905,
          906,
          907,
          908,
          909,
          910,
          911,
          912,
          913,
          914,
          915,
          916,
          917,
          918,
          919,
          920,
          921,
          922,
          923,
          924,
          925,
          926,
          927,
          928,
          929,
          930,
          931,
          932,
          933,
          934,
          935,
          936,
          937,
          938,
          939,
          940,
          941,
          942,
          943,
          944,
          945,
          946,
          947,
          948,
          949,
          950,
          952,
          953,
          954,
          955,
          956,
          957,
          958,
          959,
          960,
          961,
          962,
          963,
          964,
          965,
          966,
          967,
          968,
          969,
          970,
          971,
          972,
          973,
          974,
          975,
          976,
          977,
          978,
          979,
          980,
          981,
          982,
          983,
          984,
          985,
          986,
          987
         ],
         "xaxis": "x",
         "y": [
          4.9643,
          4.9923,
          5.0844,
          5.2417,
          5.0712,
          5.2551,
          5.1607,
          5.1463,
          5.2868,
          5.3314,
          5.1275,
          5.2032,
          5.2178,
          5.0276,
          5.2704,
          5.0816,
          5.1521,
          5.1938,
          5.1398,
          5.3009,
          4.9684,
          4.9737,
          5.1259,
          4.8432,
          5.0199,
          4.8156,
          5.0678,
          4.9434,
          5.2757,
          5.1635,
          5.136,
          5.0508,
          5.327,
          5.1884,
          5.0323,
          5.0549,
          5.1286,
          5.105,
          5.0556,
          5.0182,
          5.0249,
          5.1374,
          4.9245,
          5.0192,
          5.033,
          5.1741,
          5.1292,
          5.0333,
          5.162,
          5.1183,
          5.104,
          5.104,
          5.0897,
          5.1436,
          5.1744,
          5.1748,
          5.1514,
          5.0473,
          4.9447,
          5.0909,
          5.1285,
          5.0815,
          5.2434,
          5.1243,
          5.1325,
          5.3434,
          5.1404,
          5.1471,
          5.2135,
          5.1921,
          5.0493,
          5.3052,
          5.1182,
          5.1924,
          5.097,
          5.2482,
          5.0563,
          5.0967,
          5.255,
          5.2049,
          5.1538,
          4.9564,
          5.1111,
          4.9125,
          5.1947,
          5.1045,
          5.1897,
          5.173,
          5.0449,
          5.0961,
          5.1473,
          5.0417,
          5.0172,
          5.0388,
          5.0963,
          5.1736,
          5.1059,
          5.3578,
          5.0553,
          5.3009,
          5.1975,
          5.1975,
          5.0941,
          5.1921,
          5.1077,
          5.03,
          5.0041,
          5.1536,
          5.2895,
          5.2538,
          5.1835,
          5.2591,
          5.2682,
          5.126,
          5.2321,
          5.2099,
          5.2368,
          5.1313,
          5.1596,
          5.1137,
          5.2075,
          5.128,
          5.1868,
          5.1167,
          5.1416,
          5.0535,
          5,
          5.246,
          5.189,
          5.1856,
          5.0447,
          5.202,
          5.0541,
          5.1405,
          5.1157,
          5.0506,
          4.9626,
          5.0892,
          5.0584,
          5.2074,
          5.0619,
          5.017,
          5.0535,
          5.0643,
          5.0923,
          5.0351,
          5.1799,
          5.1727,
          4.995,
          5.1489,
          5.0704,
          5.0894,
          5.139,
          5.10625,
          5.0735,
          4.9139,
          5.0249,
          4.8427,
          4.9922,
          4.8884,
          4.8678,
          5.1116,
          4.8413,
          4.9067,
          4.9817,
          4.9619,
          5.0658,
          5.0941,
          4.953,
          4.9627,
          5.0933,
          5.057,
          5.0352,
          5.1471,
          4.971,
          5.0347,
          5.1529,
          4.939,
          4.8547,
          5.0938,
          4.977,
          5.0222,
          5.0444,
          4.9327,
          5.0378,
          4.9696,
          5.0212,
          5.0864,
          4.9606,
          4.9,
          5.0511,
          5.0047,
          4.99,
          5.0275,
          4.9091,
          4.8582,
          4.9474,
          5.0456,
          4.9409,
          4.9744,
          5.0617,
          4.9,
          4.9447,
          5.0494,
          4.9944,
          4.979,
          4.9717,
          5.1116,
          4.9964,
          4.8921,
          4.8993,
          4.888,
          4.9902,
          4.7895,
          4.9398,
          4.9556,
          4.9439,
          4.9621,
          4.9441,
          4.8112,
          4.8866,
          4.8826,
          4.9154,
          4.8715,
          4.913,
          4.9876,
          4.9461,
          5.0164,
          5.1826,
          4.8618,
          4.9367,
          5.0131,
          5.0254,
          4.9496,
          4.8352,
          4.8707,
          4.9625,
          4.9457,
          4.9857,
          4.8929,
          4.9633,
          5.0915,
          5,
          5.0516,
          4.9383,
          4.9858,
          4.9116,
          4.976,
          4.7395,
          4.7628,
          4.8611,
          4.8235,
          4.7629,
          4.8077,
          4.994,
          4.9209,
          4.90555,
          4.8902,
          4.7629,
          4.8737,
          4.844,
          4.8394,
          4.8629,
          4.88795,
          4.913,
          4.9598,
          4.8593,
          4.6919,
          4.836,
          4.7833,
          4.9484,
          4.7676,
          4.7607,
          4.7212,
          4.8618,
          5.0207,
          4.7789,
          4.8182,
          4.8701,
          4.8737,
          4.7882,
          4.9155,
          4.7095,
          4.8788,
          4.911,
          4.8827,
          4.8852,
          4.8691,
          4.853,
          4.825,
          4.8017,
          4.7513,
          5.0798,
          4.7803,
          4.9733,
          4.9257,
          5.0141,
          4.9138,
          4.7966,
          4.8443,
          4.8729,
          4.8917,
          4.875,
          4.8033,
          5.0176,
          5.0432,
          5,
          4.8794,
          4.8938,
          5.0115,
          4.7745,
          4.7619,
          5.0299,
          4.8325,
          4.8611,
          4.87,
          4.8387,
          4.8757,
          4.7692,
          4.7876,
          4.9132,
          4.9944,
          5.0162,
          4.7104,
          4.8977,
          4.625,
          4.8655,
          4.7809,
          4.9266,
          4.9471,
          4.8146,
          4.8235,
          4.7657,
          4.801,
          4.8669,
          4.6761,
          4.8223,
          4.735,
          4.841,
          4.7625,
          4.7577,
          4.8333,
          4.7557,
          4.6935,
          4.875,
          4.7468,
          4.7937,
          4.8396,
          4.6612,
          4.7386,
          4.7943,
          4.8045,
          4.6545,
          4.9801,
          4.6126,
          4.7391,
          4.8689,
          4.8042,
          4.6552,
          4.725,
          4.8338,
          4.9426,
          4.679,
          4.7987,
          4.7386,
          4.8305,
          4.71,
          4.9395,
          4.7711,
          4.6977,
          4.8171,
          4.7679,
          4.6497,
          4.8434,
          4.8382,
          4.7543,
          4.7389,
          4.7609,
          4.8134,
          4.7867,
          4.7443,
          4.8571,
          4.7413,
          4.7394,
          4.8837,
          4.9591,
          4.9294,
          4.9404,
          4.8315,
          4.8588,
          4.8978,
          4.7469,
          4.7447,
          4.8503,
          4.9063,
          4.7302,
          4.8777,
          4.7988,
          4.6879,
          4.7758,
          4.7219,
          4.7688,
          4.7485,
          4.7396,
          4.913,
          4.8086,
          4.8869,
          4.8206,
          4.8618,
          4.8297,
          4.7201,
          4.7826,
          4.81505,
          4.8475,
          4.7903,
          4.7203,
          4.7023,
          4.8469,
          4.6886,
          4.7963,
          4.7136,
          4.6976,
          4.7663,
          4.7139,
          4.7775,
          4.812,
          4.8029,
          4.805,
          4.7196,
          4.783,
          4.5358,
          4.7646,
          4.7855,
          4.6813,
          4.7853,
          4.7097,
          4.679,
          4.6824,
          4.5373,
          4.6721,
          4.8239,
          4.8431,
          4.7401,
          4.7857,
          4.8475,
          4.7709,
          4.7366,
          4.82,
          4.8142,
          4.7,
          4.7403,
          4.6226,
          4.7565,
          4.7929,
          4.8243,
          4.6137,
          4.7756,
          4.7455,
          4.6527,
          4.7406,
          4.7213,
          4.7026,
          4.7756,
          4.8224,
          4.6784,
          4.71165,
          4.7449,
          4.713,
          4.7434,
          4.8247,
          4.72,
          4.8025,
          4.7349,
          4.7019,
          4.7143,
          4.8113,
          4.8562,
          4.6683,
          4.8485,
          4.8333,
          4.8878,
          4.8048,
          4.7006,
          4.7324,
          4.6986,
          4.5928,
          4.8168,
          4.7914,
          4.6685,
          4.6228,
          4.8533,
          4.8844,
          4.8122,
          4.8271,
          4.6683,
          4.7927,
          4.8232,
          4.8031,
          4.9218,
          4.7964,
          4.8299,
          4.8677,
          4.8054,
          4.7621,
          4.8434,
          4.7323,
          4.7455,
          4.8131,
          4.7015,
          4.8041,
          4.713,
          4.7671,
          4.7868,
          4.7559,
          4.7453,
          4.7538,
          4.6882,
          4.7219,
          4.8652,
          4.7577,
          4.6808,
          4.8514,
          4.7512,
          4.7392,
          4.7738,
          4.722,
          4.5917,
          4.6996,
          4.7739,
          4.6699,
          4.6319,
          4.673,
          4.7802,
          4.6872,
          4.8284,
          4.9257,
          4.8775,
          4.6149,
          4.8756,
          4.7854,
          4.7268,
          4.6961,
          4.6321,
          4.6133,
          4.731,
          4.7486,
          4.6824,
          4.6257,
          4.7538,
          4.733,
          4.6436,
          4.5505,
          4.5308,
          4.7941,
          4.7343,
          4.7736,
          4.7373,
          4.585,
          4.7025,
          4.5981,
          4.7453,
          4.7326,
          4.6639,
          4.5393,
          4.6402,
          4.7617,
          4.7658,
          4.6256,
          4.7933,
          4.5888,
          4.6184,
          4.5811,
          4.6681,
          4.6507,
          4.6414,
          4.6745,
          4.5346,
          4.6216,
          4.6359,
          4.6898,
          4.4851,
          4.7472,
          4.8186,
          4.6089,
          4.67,
          4.7109,
          4.6878,
          4.6542,
          4.6103,
          4.7225,
          4.6847,
          4.7331,
          4.6983,
          4.7907,
          4.7072,
          4.6743,
          4.6429,
          4.768,
          4.7371,
          4.7418,
          4.6642,
          4.7124,
          4.7275,
          4.6374,
          4.6814,
          4.7417,
          4.7811,
          4.5702,
          4.6323,
          4.5276,
          4.692,
          4.6337,
          4.6606,
          4.8008,
          4.6726,
          4.6758,
          4.6866,
          4.662,
          4.5862,
          4.7404,
          4.68705,
          4.6337,
          4.4978,
          4.6655,
          4.5504,
          4.613,
          4.6151,
          4.6468,
          4.4592,
          4.5703,
          4.5877,
          4.6234,
          4.5738,
          4.5382,
          4.6667,
          4.7236,
          4.6812,
          4.6826,
          4.6143,
          4.6109,
          4.4885,
          4.6339,
          4.5252,
          4.5783,
          4.5628,
          4.5508,
          4.5668,
          4.5323,
          4.5564,
          4.6903,
          4.463,
          4.6064,
          4.5962,
          4.671,
          4.772,
          4.6821,
          4.6782,
          4.6698,
          4.6498,
          4.671,
          4.6618,
          4.7336,
          4.6307,
          4.5868,
          4.6226,
          4.673,
          4.6742,
          4.7808,
          4.6073,
          4.559,
          4.5039,
          4.6579,
          4.67615,
          4.6944,
          4.5867,
          4.5573,
          4.6028,
          4.7355,
          4.6862,
          4.6667,
          4.5665,
          4.6202,
          4.7143,
          4.6124,
          4.8148,
          4.5833,
          4.597,
          4.6055,
          4.6623,
          4.5753,
          4.5749,
          4.6165,
          4.7293,
          4.6564,
          4.7385,
          4.6567,
          4.7596,
          4.6224,
          4.5337,
          4.6359,
          4.7377,
          4.6976,
          4.6117,
          4.5978,
          4.6796,
          4.771,
          4.797,
          4.6857,
          4.5882,
          4.6432,
          4.6374,
          4.6409,
          4.8054,
          4.5882,
          4.5605,
          4.7333,
          4.6871,
          4.5862,
          4.6174,
          4.625,
          4.5669,
          4.7844,
          4.7483,
          4.5538,
          4.5074,
          4.461,
          4.6537,
          4.6804,
          4.7941,
          4.5319,
          4.6273,
          4.629,
          4.5,
          4.5029,
          4.492,
          4.6429,
          4.596,
          4.9027,
          4.6818,
          4.6744,
          4.56,
          4.6532,
          4.6929,
          4.4767,
          4.5928,
          4.4836,
          4.6757,
          4.5959,
          4.6282,
          4.6753,
          4.6344,
          4.5169,
          4.5679,
          4.484,
          4.608,
          4.5278,
          4.5909,
          4.6467,
          4.6615,
          4.6294,
          4.614,
          4.5029,
          4.6378,
          4.5497,
          4.525,
          4.545,
          4.5354,
          4.5455,
          4.5607,
          4.4444,
          4.5317,
          4.5172,
          4.5026,
          4.4753,
          4.5885,
          4.3905,
          4.4365,
          4.3724,
          4.4833,
          4.5825,
          4.4434,
          4.434,
          4.4734,
          4.4327,
          4.4848,
          4.4615,
          4.6316,
          4.6243,
          4.3951,
          4.3681,
          4.5556,
          4.7107,
          4.4745,
          4.5422,
          4.4811,
          4.5171,
          4.5231,
          4.6512,
          4.6364,
          4.6438,
          4.4892,
          4.6354,
          4.6346,
          4.4966,
          4.6121,
          4.4737,
          4.5466,
          4.6438,
          4.4218,
          4.6084,
          4.5094,
          4.5291,
          4.5206,
          4.5486,
          4.4407,
          4.5185,
          4.471,
          4.5865,
          4.6,
          4.5928,
          4.5882,
          4.5986,
          4.539,
          4.3846,
          4.5276,
          4.6369,
          4.5202,
          4.6302,
          4.5,
          4.3556,
          4.3728,
          4.538,
          4.474,
          4.5514,
          4.2638,
          4.4503,
          4.4044,
          4.2794,
          4.3671,
          4.4058,
          4.3534,
          4.5597,
          4.4059,
          4.3728,
          4.4126,
          4.436,
          4.4356,
          4.461,
          4.5755,
          4.4255,
          4.4458,
          4.3846,
          4.4828,
          4.4899,
          4.5033,
          4.3986,
          4.5217,
          4.6489,
          4.4286,
          4.5508,
          4.472,
          4.5432,
          4.5273,
          4.5247,
          4.2667,
          4.5235,
          4.5689,
          4.5368,
          4.5032,
          4.2688,
          4.3833,
          4.3869,
          4.3846,
          4.2764,
          4.3728,
          4.4126,
          4.5238,
          4.3839,
          4.3598,
          4.3717,
          4.4524,
          4.3115,
          4.2465,
          4.4448,
          4.299,
          4.3526,
          4.3018,
          4.2804,
          4.351,
          4.2625,
          4.4028,
          4.3627,
          4.4895,
          4.2593,
          4.2977,
          4.224,
          4.2733,
          4.2609,
          4.5045,
          4.2571,
          4.4336,
          4.2821,
          4.4605,
          4.2881,
          4.4355,
          4.3985,
          4.3388,
          4.2419,
          4.4419,
          4.4444,
          4.5139,
          4.5317,
          4.4846,
          4.491,
          4.3802,
          4.3812,
          4.3684,
          4.3511,
          4.6047,
          4.442,
          4.4074,
          4.439,
          4.4876,
          4.392,
          4.3712,
          4.3984,
          4.3389,
          4.5523,
          4.4358,
          4.4755,
          4.5523,
          4.627,
          4.5417,
          4.4667,
          4.5099,
          4.5,
          4.2922,
          4.5035,
          4.424,
          4.3696,
          4.4154,
          4.2284,
          4.3907,
          4.298,
          4.3836,
          4.3007,
          4.3724,
          4.1857,
          4.2252,
          4.2252,
          4.2583,
          4.3866,
          4.3929,
          4.2308,
          4.3636,
          4.4554,
          4.301,
          4.4863,
          4.3465,
          4.4251,
          4.4505,
          4.3295,
          4.4857,
          4.5488,
          4.4545,
          4.2593,
          4.2874,
          4.4034,
          4.3846,
          4.4575,
          4.5,
          4.4727,
          4.6111,
          4.3907,
          4.6087,
          4.3881,
          4.5727,
          4.5172,
          4.4068,
          4.4088,
          4.5083,
          4.3652,
          4.3071
         ],
         "yaxis": "y"
        },
        {
         "hovertemplate": "outliers=yes<br>time=%{x}<br>Cda=%{y}<extra></extra>",
         "legendgroup": "yes",
         "marker": {
          "color": "#EF553B",
          "symbol": "circle"
         },
         "mode": "markers",
         "name": "yes",
         "orientation": "v",
         "showlegend": true,
         "type": "scatter",
         "x": [
          10,
          67,
          100,
          951
         ],
         "xaxis": "x",
         "y": [
          5.0772,
          5.1158,
          5.1724,
          4.3307
         ],
         "yaxis": "y"
        }
       ],
       "layout": {
        "legend": {
         "title": {
          "text": "outliers"
         },
         "tracegroupgap": 0
        },
        "margin": {
         "t": 60
        },
        "template": {
         "data": {
          "bar": [
           {
            "error_x": {
             "color": "#2a3f5f"
            },
            "error_y": {
             "color": "#2a3f5f"
            },
            "marker": {
             "line": {
              "color": "#E5ECF6",
              "width": 0.5
             },
             "pattern": {
              "fillmode": "overlay",
              "size": 10,
              "solidity": 0.2
             }
            },
            "type": "bar"
           }
          ],
          "barpolar": [
           {
            "marker": {
             "line": {
              "color": "#E5ECF6",
              "width": 0.5
             },
             "pattern": {
              "fillmode": "overlay",
              "size": 10,
              "solidity": 0.2
             }
            },
            "type": "barpolar"
           }
          ],
          "carpet": [
           {
            "aaxis": {
             "endlinecolor": "#2a3f5f",
             "gridcolor": "white",
             "linecolor": "white",
             "minorgridcolor": "white",
             "startlinecolor": "#2a3f5f"
            },
            "baxis": {
             "endlinecolor": "#2a3f5f",
             "gridcolor": "white",
             "linecolor": "white",
             "minorgridcolor": "white",
             "startlinecolor": "#2a3f5f"
            },
            "type": "carpet"
           }
          ],
          "choropleth": [
           {
            "colorbar": {
             "outlinewidth": 0,
             "ticks": ""
            },
            "type": "choropleth"
           }
          ],
          "contour": [
           {
            "colorbar": {
             "outlinewidth": 0,
             "ticks": ""
            },
            "colorscale": [
             [
              0,
              "#0d0887"
             ],
             [
              0.1111111111111111,
              "#46039f"
             ],
             [
              0.2222222222222222,
              "#7201a8"
             ],
             [
              0.3333333333333333,
              "#9c179e"
             ],
             [
              0.4444444444444444,
              "#bd3786"
             ],
             [
              0.5555555555555556,
              "#d8576b"
             ],
             [
              0.6666666666666666,
              "#ed7953"
             ],
             [
              0.7777777777777778,
              "#fb9f3a"
             ],
             [
              0.8888888888888888,
              "#fdca26"
             ],
             [
              1,
              "#f0f921"
             ]
            ],
            "type": "contour"
           }
          ],
          "contourcarpet": [
           {
            "colorbar": {
             "outlinewidth": 0,
             "ticks": ""
            },
            "type": "contourcarpet"
           }
          ],
          "heatmap": [
           {
            "colorbar": {
             "outlinewidth": 0,
             "ticks": ""
            },
            "colorscale": [
             [
              0,
              "#0d0887"
             ],
             [
              0.1111111111111111,
              "#46039f"
             ],
             [
              0.2222222222222222,
              "#7201a8"
             ],
             [
              0.3333333333333333,
              "#9c179e"
             ],
             [
              0.4444444444444444,
              "#bd3786"
             ],
             [
              0.5555555555555556,
              "#d8576b"
             ],
             [
              0.6666666666666666,
              "#ed7953"
             ],
             [
              0.7777777777777778,
              "#fb9f3a"
             ],
             [
              0.8888888888888888,
              "#fdca26"
             ],
             [
              1,
              "#f0f921"
             ]
            ],
            "type": "heatmap"
           }
          ],
          "heatmapgl": [
           {
            "colorbar": {
             "outlinewidth": 0,
             "ticks": ""
            },
            "colorscale": [
             [
              0,
              "#0d0887"
             ],
             [
              0.1111111111111111,
              "#46039f"
             ],
             [
              0.2222222222222222,
              "#7201a8"
             ],
             [
              0.3333333333333333,
              "#9c179e"
             ],
             [
              0.4444444444444444,
              "#bd3786"
             ],
             [
              0.5555555555555556,
              "#d8576b"
             ],
             [
              0.6666666666666666,
              "#ed7953"
             ],
             [
              0.7777777777777778,
              "#fb9f3a"
             ],
             [
              0.8888888888888888,
              "#fdca26"
             ],
             [
              1,
              "#f0f921"
             ]
            ],
            "type": "heatmapgl"
           }
          ],
          "histogram": [
           {
            "marker": {
             "pattern": {
              "fillmode": "overlay",
              "size": 10,
              "solidity": 0.2
             }
            },
            "type": "histogram"
           }
          ],
          "histogram2d": [
           {
            "colorbar": {
             "outlinewidth": 0,
             "ticks": ""
            },
            "colorscale": [
             [
              0,
              "#0d0887"
             ],
             [
              0.1111111111111111,
              "#46039f"
             ],
             [
              0.2222222222222222,
              "#7201a8"
             ],
             [
              0.3333333333333333,
              "#9c179e"
             ],
             [
              0.4444444444444444,
              "#bd3786"
             ],
             [
              0.5555555555555556,
              "#d8576b"
             ],
             [
              0.6666666666666666,
              "#ed7953"
             ],
             [
              0.7777777777777778,
              "#fb9f3a"
             ],
             [
              0.8888888888888888,
              "#fdca26"
             ],
             [
              1,
              "#f0f921"
             ]
            ],
            "type": "histogram2d"
           }
          ],
          "histogram2dcontour": [
           {
            "colorbar": {
             "outlinewidth": 0,
             "ticks": ""
            },
            "colorscale": [
             [
              0,
              "#0d0887"
             ],
             [
              0.1111111111111111,
              "#46039f"
             ],
             [
              0.2222222222222222,
              "#7201a8"
             ],
             [
              0.3333333333333333,
              "#9c179e"
             ],
             [
              0.4444444444444444,
              "#bd3786"
             ],
             [
              0.5555555555555556,
              "#d8576b"
             ],
             [
              0.6666666666666666,
              "#ed7953"
             ],
             [
              0.7777777777777778,
              "#fb9f3a"
             ],
             [
              0.8888888888888888,
              "#fdca26"
             ],
             [
              1,
              "#f0f921"
             ]
            ],
            "type": "histogram2dcontour"
           }
          ],
          "mesh3d": [
           {
            "colorbar": {
             "outlinewidth": 0,
             "ticks": ""
            },
            "type": "mesh3d"
           }
          ],
          "parcoords": [
           {
            "line": {
             "colorbar": {
              "outlinewidth": 0,
              "ticks": ""
             }
            },
            "type": "parcoords"
           }
          ],
          "pie": [
           {
            "automargin": true,
            "type": "pie"
           }
          ],
          "scatter": [
           {
            "fillpattern": {
             "fillmode": "overlay",
             "size": 10,
             "solidity": 0.2
            },
            "type": "scatter"
           }
          ],
          "scatter3d": [
           {
            "line": {
             "colorbar": {
              "outlinewidth": 0,
              "ticks": ""
             }
            },
            "marker": {
             "colorbar": {
              "outlinewidth": 0,
              "ticks": ""
             }
            },
            "type": "scatter3d"
           }
          ],
          "scattercarpet": [
           {
            "marker": {
             "colorbar": {
              "outlinewidth": 0,
              "ticks": ""
             }
            },
            "type": "scattercarpet"
           }
          ],
          "scattergeo": [
           {
            "marker": {
             "colorbar": {
              "outlinewidth": 0,
              "ticks": ""
             }
            },
            "type": "scattergeo"
           }
          ],
          "scattergl": [
           {
            "marker": {
             "colorbar": {
              "outlinewidth": 0,
              "ticks": ""
             }
            },
            "type": "scattergl"
           }
          ],
          "scattermapbox": [
           {
            "marker": {
             "colorbar": {
              "outlinewidth": 0,
              "ticks": ""
             }
            },
            "type": "scattermapbox"
           }
          ],
          "scatterpolar": [
           {
            "marker": {
             "colorbar": {
              "outlinewidth": 0,
              "ticks": ""
             }
            },
            "type": "scatterpolar"
           }
          ],
          "scatterpolargl": [
           {
            "marker": {
             "colorbar": {
              "outlinewidth": 0,
              "ticks": ""
             }
            },
            "type": "scatterpolargl"
           }
          ],
          "scatterternary": [
           {
            "marker": {
             "colorbar": {
              "outlinewidth": 0,
              "ticks": ""
             }
            },
            "type": "scatterternary"
           }
          ],
          "surface": [
           {
            "colorbar": {
             "outlinewidth": 0,
             "ticks": ""
            },
            "colorscale": [
             [
              0,
              "#0d0887"
             ],
             [
              0.1111111111111111,
              "#46039f"
             ],
             [
              0.2222222222222222,
              "#7201a8"
             ],
             [
              0.3333333333333333,
              "#9c179e"
             ],
             [
              0.4444444444444444,
              "#bd3786"
             ],
             [
              0.5555555555555556,
              "#d8576b"
             ],
             [
              0.6666666666666666,
              "#ed7953"
             ],
             [
              0.7777777777777778,
              "#fb9f3a"
             ],
             [
              0.8888888888888888,
              "#fdca26"
             ],
             [
              1,
              "#f0f921"
             ]
            ],
            "type": "surface"
           }
          ],
          "table": [
           {
            "cells": {
             "fill": {
              "color": "#EBF0F8"
             },
             "line": {
              "color": "white"
             }
            },
            "header": {
             "fill": {
              "color": "#C8D4E3"
             },
             "line": {
              "color": "white"
             }
            },
            "type": "table"
           }
          ]
         },
         "layout": {
          "annotationdefaults": {
           "arrowcolor": "#2a3f5f",
           "arrowhead": 0,
           "arrowwidth": 1
          },
          "autotypenumbers": "strict",
          "coloraxis": {
           "colorbar": {
            "outlinewidth": 0,
            "ticks": ""
           }
          },
          "colorscale": {
           "diverging": [
            [
             0,
             "#8e0152"
            ],
            [
             0.1,
             "#c51b7d"
            ],
            [
             0.2,
             "#de77ae"
            ],
            [
             0.3,
             "#f1b6da"
            ],
            [
             0.4,
             "#fde0ef"
            ],
            [
             0.5,
             "#f7f7f7"
            ],
            [
             0.6,
             "#e6f5d0"
            ],
            [
             0.7,
             "#b8e186"
            ],
            [
             0.8,
             "#7fbc41"
            ],
            [
             0.9,
             "#4d9221"
            ],
            [
             1,
             "#276419"
            ]
           ],
           "sequential": [
            [
             0,
             "#0d0887"
            ],
            [
             0.1111111111111111,
             "#46039f"
            ],
            [
             0.2222222222222222,
             "#7201a8"
            ],
            [
             0.3333333333333333,
             "#9c179e"
            ],
            [
             0.4444444444444444,
             "#bd3786"
            ],
            [
             0.5555555555555556,
             "#d8576b"
            ],
            [
             0.6666666666666666,
             "#ed7953"
            ],
            [
             0.7777777777777778,
             "#fb9f3a"
            ],
            [
             0.8888888888888888,
             "#fdca26"
            ],
            [
             1,
             "#f0f921"
            ]
           ],
           "sequentialminus": [
            [
             0,
             "#0d0887"
            ],
            [
             0.1111111111111111,
             "#46039f"
            ],
            [
             0.2222222222222222,
             "#7201a8"
            ],
            [
             0.3333333333333333,
             "#9c179e"
            ],
            [
             0.4444444444444444,
             "#bd3786"
            ],
            [
             0.5555555555555556,
             "#d8576b"
            ],
            [
             0.6666666666666666,
             "#ed7953"
            ],
            [
             0.7777777777777778,
             "#fb9f3a"
            ],
            [
             0.8888888888888888,
             "#fdca26"
            ],
            [
             1,
             "#f0f921"
            ]
           ]
          },
          "colorway": [
           "#636efa",
           "#EF553B",
           "#00cc96",
           "#ab63fa",
           "#FFA15A",
           "#19d3f3",
           "#FF6692",
           "#B6E880",
           "#FF97FF",
           "#FECB52"
          ],
          "font": {
           "color": "#2a3f5f"
          },
          "geo": {
           "bgcolor": "white",
           "lakecolor": "white",
           "landcolor": "#E5ECF6",
           "showlakes": true,
           "showland": true,
           "subunitcolor": "white"
          },
          "hoverlabel": {
           "align": "left"
          },
          "hovermode": "closest",
          "mapbox": {
           "style": "light"
          },
          "paper_bgcolor": "white",
          "plot_bgcolor": "#E5ECF6",
          "polar": {
           "angularaxis": {
            "gridcolor": "white",
            "linecolor": "white",
            "ticks": ""
           },
           "bgcolor": "#E5ECF6",
           "radialaxis": {
            "gridcolor": "white",
            "linecolor": "white",
            "ticks": ""
           }
          },
          "scene": {
           "xaxis": {
            "backgroundcolor": "#E5ECF6",
            "gridcolor": "white",
            "gridwidth": 2,
            "linecolor": "white",
            "showbackground": true,
            "ticks": "",
            "zerolinecolor": "white"
           },
           "yaxis": {
            "backgroundcolor": "#E5ECF6",
            "gridcolor": "white",
            "gridwidth": 2,
            "linecolor": "white",
            "showbackground": true,
            "ticks": "",
            "zerolinecolor": "white"
           },
           "zaxis": {
            "backgroundcolor": "#E5ECF6",
            "gridcolor": "white",
            "gridwidth": 2,
            "linecolor": "white",
            "showbackground": true,
            "ticks": "",
            "zerolinecolor": "white"
           }
          },
          "shapedefaults": {
           "line": {
            "color": "#2a3f5f"
           }
          },
          "ternary": {
           "aaxis": {
            "gridcolor": "white",
            "linecolor": "white",
            "ticks": ""
           },
           "baxis": {
            "gridcolor": "white",
            "linecolor": "white",
            "ticks": ""
           },
           "bgcolor": "#E5ECF6",
           "caxis": {
            "gridcolor": "white",
            "linecolor": "white",
            "ticks": ""
           }
          },
          "title": {
           "x": 0.05
          },
          "xaxis": {
           "automargin": true,
           "gridcolor": "white",
           "linecolor": "white",
           "ticks": "",
           "title": {
            "standoff": 15
           },
           "zerolinecolor": "white",
           "zerolinewidth": 2
          },
          "yaxis": {
           "automargin": true,
           "gridcolor": "white",
           "linecolor": "white",
           "ticks": "",
           "title": {
            "standoff": 15
           },
           "zerolinecolor": "white",
           "zerolinewidth": 2
          }
         }
        },
        "xaxis": {
         "anchor": "y",
         "domain": [
          0,
          1
         ],
         "rangeslider": {
          "visible": true
         },
         "title": {
          "text": "time"
         }
        },
        "yaxis": {
         "anchor": "x",
         "domain": [
          0,
          1
         ],
         "title": {
          "text": "Cda"
         }
        }
       }
      }
     },
     "metadata": {},
     "output_type": "display_data"
    }
   ],
   "source": [
    "fig = px.scatter(df.reset_index(), x='time', y='Cda', color='outliers')\n",
    "fig.update_xaxes(\n",
    "    rangeslider_visible=True,\n",
    ")\n",
    "fig.show()"
   ]
  }
 ],
 "metadata": {
  "kernelspec": {
   "display_name": "Python 3",
   "language": "python",
   "name": "python3"
  },
  "language_info": {
   "codemirror_mode": {
    "name": "ipython",
    "version": 3
   },
   "file_extension": ".py",
   "mimetype": "text/x-python",
   "name": "python",
   "nbconvert_exporter": "python",
   "pygments_lexer": "ipython3",
   "version": "3.11.5"
  }
 },
 "nbformat": 4,
 "nbformat_minor": 2
}
